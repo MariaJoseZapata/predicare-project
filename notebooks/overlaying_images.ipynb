{
  "nbformat": 4,
  "nbformat_minor": 0,
  "metadata": {
    "colab": {
      "provenance": []
    },
    "kernelspec": {
      "name": "python3",
      "display_name": "Python 3"
    },
    "language_info": {
      "name": "python"
    }
  },
  "cells": [
    {
      "cell_type": "markdown",
      "source": [
        "# Overlaying images"
      ],
      "metadata": {
        "id": "7WQmB7q06jNe"
      }
    },
    {
      "cell_type": "code",
      "source": [
        "from google.colab import drive\n",
        "drive.mount('/content/drive')"
      ],
      "metadata": {
        "colab": {
          "base_uri": "https://localhost:8080/"
        },
        "id": "Scn-c4O66vEy",
        "outputId": "231cb5f5-ae26-4772-e3a0-527d40b87da8"
      },
      "execution_count": null,
      "outputs": [
        {
          "output_type": "stream",
          "name": "stdout",
          "text": [
            "Drive already mounted at /content/drive; to attempt to forcibly remount, call drive.mount(\"/content/drive\", force_remount=True).\n"
          ]
        }
      ]
    },
    {
      "cell_type": "code",
      "source": [
        "import os\n",
        "from PIL import Image"
      ],
      "metadata": {
        "id": "pPcg8_qA7PgB"
      },
      "execution_count": null,
      "outputs": []
    },
    {
      "cell_type": "markdown",
      "source": [
        "## Filtered data"
      ],
      "metadata": {
        "id": "40GsOVQxLS4N"
      }
    },
    {
      "cell_type": "markdown",
      "source": [
        "Benign images"
      ],
      "metadata": {
        "id": "Hg3xiOay7Xbw"
      }
    },
    {
      "cell_type": "code",
      "source": [
        "# Path to the folder containing the images\n",
        "folder_path = \"/content/drive/MyDrive/US dataset/Filtered-data/benign\"\n",
        "\n",
        "# Path to save the composite images\n",
        "save_path = \"/content/drive/MyDrive/US dataset/Filtered-data/Overlayed/benign\"\n",
        "\n",
        "# Iterate through the files in the folder\n",
        "for filename in os.listdir(folder_path):\n",
        "    if filename.endswith(\".png\") and \"_mask\" not in filename:  # Select only the images, not the masks\n",
        "        image_path = os.path.join(folder_path, filename)\n",
        "        mask_path_1 = os.path.join(folder_path, f\"{filename.split('.')[0]}_mask.png\")  # Construct the first mask path\n",
        "        mask_path_2 = os.path.join(folder_path, f\"{filename.split('.')[0]}_mask_1.png\")  # Construct the second mask path\n",
        "\n",
        "        # Open the background image\n",
        "        background = Image.open(image_path)\n",
        "\n",
        "        # Initialize the overlay image as None\n",
        "        overlay_final = None\n",
        "\n",
        "        # Check if the first mask exists\n",
        "        if os.path.exists(mask_path_1):\n",
        "            # Open the first overlay image\n",
        "            overlay_1 = Image.open(mask_path_1)\n",
        "\n",
        "            # Resize the first overlay image to fit the background image\n",
        "            overlay_resized_1 = overlay_1.resize(background.size, Image.LANCZOS)\n",
        "\n",
        "            # Ensure the mode is compatible\n",
        "            if background.mode != overlay_resized_1.mode:\n",
        "                overlay_resized_1 = overlay_resized_1.convert(background.mode)\n",
        "\n",
        "            overlay_final = overlay_resized_1\n",
        "\n",
        "        # Check if the second mask exists\n",
        "        if os.path.exists(mask_path_2):\n",
        "            # Open the second overlay image\n",
        "            overlay_2 = Image.open(mask_path_2)\n",
        "\n",
        "            # Resize the second overlay image to fit the background image\n",
        "            overlay_resized_2 = overlay_2.resize(background.size, Image.LANCZOS)\n",
        "\n",
        "            # Ensure the mode is compatible\n",
        "            if background.mode != overlay_resized_2.mode:\n",
        "                overlay_resized_2 = overlay_resized_2.convert(background.mode)\n",
        "\n",
        "            # If the first overlay image exists, blend both overlay images\n",
        "            if overlay_final:\n",
        "                overlay_final = Image.blend(overlay_final, overlay_resized_2, 0.5)\n",
        "            else:\n",
        "                overlay_final = overlay_resized_2\n",
        "\n",
        "        if overlay_final:\n",
        "            # Create a composite image by blending the images\n",
        "            blended = Image.blend(background, overlay_final, 0.5)\n",
        "\n",
        "            # Save the composite image in the specified folder\n",
        "            save_name = f\"overlayed_{filename}\"\n",
        "            save_path_full = os.path.join(save_path, save_name)\n",
        "            blended.save(save_path_full)  # Adjust the save file name as needed\n",
        "\n",
        "            # Optionally, show the composite image\n",
        "            #blended.show()\n",
        "        else:\n",
        "            print(f\"No masks found for {filename}.\")"
      ],
      "metadata": {
        "id": "wrc2vbioPlLt"
      },
      "execution_count": 10,
      "outputs": []
    },
    {
      "cell_type": "markdown",
      "source": [
        "Malignant images"
      ],
      "metadata": {
        "id": "TupG82iJ7aAZ"
      }
    },
    {
      "cell_type": "code",
      "source": [
        "# Path to the folder containing the images\n",
        "folder_path = \"/content/drive/MyDrive/US dataset/Filtered-data/malignant\"\n",
        "\n",
        "# Path to save the composite images\n",
        "save_path = \"/content/drive/MyDrive/US dataset/Filtered-data/Overlayed/malignant\"\n",
        "\n",
        "# Iterate through the files in the folder\n",
        "for filename in os.listdir(folder_path):\n",
        "    if filename.endswith(\".png\") and \"_mask\" not in filename:  # Select only the images, not the masks\n",
        "        image_path = os.path.join(folder_path, filename)\n",
        "        mask_path_1 = os.path.join(folder_path, f\"{filename.split('.')[0]}_mask.png\")  # Construct the first mask path\n",
        "        mask_path_2 = os.path.join(folder_path, f\"{filename.split('.')[0]}_mask_1.png\")  # Construct the second mask path\n",
        "\n",
        "        # Open the background image\n",
        "        background = Image.open(image_path)\n",
        "\n",
        "        # Initialize the overlay image as None\n",
        "        overlay_final = None\n",
        "\n",
        "        # Check if the first mask exists\n",
        "        if os.path.exists(mask_path_1):\n",
        "            # Open the first overlay image\n",
        "            overlay_1 = Image.open(mask_path_1)\n",
        "\n",
        "            # Resize the first overlay image to fit the background image\n",
        "            overlay_resized_1 = overlay_1.resize(background.size, Image.LANCZOS)\n",
        "\n",
        "            # Ensure the mode is compatible\n",
        "            if background.mode != overlay_resized_1.mode:\n",
        "                overlay_resized_1 = overlay_resized_1.convert(background.mode)\n",
        "\n",
        "            overlay_final = overlay_resized_1\n",
        "\n",
        "        # Check if the second mask exists\n",
        "        if os.path.exists(mask_path_2):\n",
        "            # Open the second overlay image\n",
        "            overlay_2 = Image.open(mask_path_2)\n",
        "\n",
        "            # Resize the second overlay image to fit the background image\n",
        "            overlay_resized_2 = overlay_2.resize(background.size, Image.LANCZOS)\n",
        "\n",
        "            # Ensure the mode is compatible\n",
        "            if background.mode != overlay_resized_2.mode:\n",
        "                overlay_resized_2 = overlay_resized_2.convert(background.mode)\n",
        "\n",
        "            # If the first overlay image exists, blend both overlay images\n",
        "            if overlay_final:\n",
        "                overlay_final = Image.blend(overlay_final, overlay_resized_2, 0.5)\n",
        "            else:\n",
        "                overlay_final = overlay_resized_2\n",
        "\n",
        "        if overlay_final:\n",
        "            # Create a composite image by blending the images\n",
        "            blended = Image.blend(background, overlay_final, 0.5)\n",
        "\n",
        "            # Save the composite image in the specified folder\n",
        "            save_name = f\"result_{filename}\"\n",
        "            save_path_full = os.path.join(save_path, save_name)\n",
        "            blended.save(save_path_full)  # Adjust the save file name as needed\n",
        "\n",
        "            # Optionally, show the composite image\n",
        "            #blended.show()\n",
        "        else:\n",
        "            print(f\"No masks found for {filename}.\")"
      ],
      "metadata": {
        "id": "WbLtyk_b917B"
      },
      "execution_count": 11,
      "outputs": []
    },
    {
      "cell_type": "markdown",
      "source": [
        "Normal images"
      ],
      "metadata": {
        "id": "gOiDqZX-7cis"
      }
    },
    {
      "cell_type": "code",
      "source": [
        "# Path to the folder containing the images\n",
        "folder_path = \"/content/drive/MyDrive/US dataset/Filtered-data/normal\"\n",
        "\n",
        "# Path to save the composite images\n",
        "save_path = \"/content/drive/MyDrive/US dataset/Filtered-data/Overlayed/normal\"\n",
        "\n",
        "# Iterate through the files in the folder\n",
        "for filename in os.listdir(folder_path):\n",
        "    if filename.endswith(\".png\") and \"_mask\" not in filename:  # Select only the images, not the masks\n",
        "        image_path = os.path.join(folder_path, filename)\n",
        "        mask_path_1 = os.path.join(folder_path, f\"{filename.split('.')[0]}_mask.png\")  # Construct the first mask path\n",
        "        mask_path_2 = os.path.join(folder_path, f\"{filename.split('.')[0]}_mask_1.png\")  # Construct the second mask path\n",
        "\n",
        "        # Open the background image\n",
        "        background = Image.open(image_path)\n",
        "\n",
        "        # Initialize the overlay image as None\n",
        "        overlay_final = None\n",
        "\n",
        "        # Check if the first mask exists\n",
        "        if os.path.exists(mask_path_1):\n",
        "            # Open the first overlay image\n",
        "            overlay_1 = Image.open(mask_path_1)\n",
        "\n",
        "            # Resize the first overlay image to fit the background image\n",
        "            overlay_resized_1 = overlay_1.resize(background.size, Image.LANCZOS)\n",
        "\n",
        "            # Ensure the mode is compatible\n",
        "            if background.mode != overlay_resized_1.mode:\n",
        "                overlay_resized_1 = overlay_resized_1.convert(background.mode)\n",
        "\n",
        "            overlay_final = overlay_resized_1\n",
        "\n",
        "        # Check if the second mask exists\n",
        "        if os.path.exists(mask_path_2):\n",
        "            # Open the second overlay image\n",
        "            overlay_2 = Image.open(mask_path_2)\n",
        "\n",
        "            # Resize the second overlay image to fit the background image\n",
        "            overlay_resized_2 = overlay_2.resize(background.size, Image.LANCZOS)\n",
        "\n",
        "            # Ensure the mode is compatible\n",
        "            if background.mode != overlay_resized_2.mode:\n",
        "                overlay_resized_2 = overlay_resized_2.convert(background.mode)\n",
        "\n",
        "            # If the first overlay image exists, blend both overlay images\n",
        "            if overlay_final:\n",
        "                overlay_final = Image.blend(overlay_final, overlay_resized_2, 0.5)\n",
        "            else:\n",
        "                overlay_final = overlay_resized_2\n",
        "\n",
        "        if overlay_final:\n",
        "            # Create a composite image by blending the images\n",
        "            blended = Image.blend(background, overlay_final, 0.5)\n",
        "\n",
        "            # Save the composite image in the specified folder\n",
        "            save_name = f\"result_{filename}\"\n",
        "            save_path_full = os.path.join(save_path, save_name)\n",
        "            blended.save(save_path_full)  # Adjust the save file name as needed\n",
        "\n",
        "            # Optionally, show the composite image\n",
        "            #blended.show()\n",
        "        else:\n",
        "            print(f\"No masks found for {filename}.\")"
      ],
      "metadata": {
        "id": "EWkk3TF4QdLa"
      },
      "execution_count": 12,
      "outputs": []
    },
    {
      "cell_type": "markdown",
      "source": [
        "## Original data without duplicated or axilar images or misclassification"
      ],
      "metadata": {
        "id": "mZJBn_MMLWp4"
      }
    },
    {
      "cell_type": "markdown",
      "source": [
        "Benign"
      ],
      "metadata": {
        "id": "O8-e3cscLjeT"
      }
    },
    {
      "cell_type": "code",
      "source": [
        "# Path to the folder containing the images\n",
        "folder_path = \"/content/drive/MyDrive/US dataset/Original without duplicated, misclassification and axila/benign\"\n",
        "\n",
        "# Path to save the composite images\n",
        "save_path = \"/content/drive/MyDrive/US dataset/Original without duplicated, misclassification and axila/Overlayed/benign\"\n",
        "\n",
        "# Iterate through the files in the folder\n",
        "for filename in os.listdir(folder_path):\n",
        "    if filename.endswith(\".png\") and \"_mask\" not in filename:  # Select only the images, not the masks\n",
        "        image_path = os.path.join(folder_path, filename)\n",
        "        mask_path_1 = os.path.join(folder_path, f\"{filename.split('.')[0]}_mask.png\")  # Construct the first mask path\n",
        "        mask_path_2 = os.path.join(folder_path, f\"{filename.split('.')[0]}_mask_1.png\")  # Construct the second mask path\n",
        "\n",
        "        # Open the background image\n",
        "        background = Image.open(image_path)\n",
        "\n",
        "        # Initialize the overlay image as None\n",
        "        overlay_final = None\n",
        "\n",
        "        # Check if the first mask exists\n",
        "        if os.path.exists(mask_path_1):\n",
        "            # Open the first overlay image\n",
        "            overlay_1 = Image.open(mask_path_1)\n",
        "\n",
        "            # Resize the first overlay image to fit the background image\n",
        "            overlay_resized_1 = overlay_1.resize(background.size, Image.LANCZOS)\n",
        "\n",
        "            # Ensure the mode is compatible\n",
        "            if background.mode != overlay_resized_1.mode:\n",
        "                overlay_resized_1 = overlay_resized_1.convert(background.mode)\n",
        "\n",
        "            overlay_final = overlay_resized_1\n",
        "\n",
        "        # Check if the second mask exists\n",
        "        if os.path.exists(mask_path_2):\n",
        "            # Open the second overlay image\n",
        "            overlay_2 = Image.open(mask_path_2)\n",
        "\n",
        "            # Resize the second overlay image to fit the background image\n",
        "            overlay_resized_2 = overlay_2.resize(background.size, Image.LANCZOS)\n",
        "\n",
        "            # Ensure the mode is compatible\n",
        "            if background.mode != overlay_resized_2.mode:\n",
        "                overlay_resized_2 = overlay_resized_2.convert(background.mode)\n",
        "\n",
        "            # If the first overlay image exists, blend both overlay images\n",
        "            if overlay_final:\n",
        "                overlay_final = Image.blend(overlay_final, overlay_resized_2, 0.5)\n",
        "            else:\n",
        "                overlay_final = overlay_resized_2\n",
        "\n",
        "        if overlay_final:\n",
        "            # Create a composite image by blending the images\n",
        "            blended = Image.blend(background, overlay_final, 0.5)\n",
        "\n",
        "            # Save the composite image in the specified folder\n",
        "            save_name = f\"result_{filename}\"\n",
        "            save_path_full = os.path.join(save_path, save_name)\n",
        "            blended.save(save_path_full)  # Adjust the save file name as needed\n",
        "\n",
        "            # Optionally, show the composite image\n",
        "            #blended.show()\n",
        "        else:\n",
        "            print(f\"No masks found for {filename}.\")"
      ],
      "metadata": {
        "id": "6hz-W_raQmH_"
      },
      "execution_count": 13,
      "outputs": []
    },
    {
      "cell_type": "markdown",
      "source": [
        "Malignant"
      ],
      "metadata": {
        "id": "t386dncvL6Jz"
      }
    },
    {
      "cell_type": "code",
      "source": [
        "# Path to the folder containing the images\n",
        "folder_path = \"/content/drive/MyDrive/US dataset/Original without duplicated, misclassification and axila/malignant\"\n",
        "\n",
        "# Path to save the composite images\n",
        "save_path = \"/content/drive/MyDrive/US dataset/Original without duplicated, misclassification and axila/Overlayed/malignant\"\n",
        "\n",
        "# Iterate through the files in the folder\n",
        "for filename in os.listdir(folder_path):\n",
        "    if filename.endswith(\".png\") and \"_mask\" not in filename:  # Select only the images, not the masks\n",
        "        image_path = os.path.join(folder_path, filename)\n",
        "        mask_path_1 = os.path.join(folder_path, f\"{filename.split('.')[0]}_mask.png\")  # Construct the first mask path\n",
        "        mask_path_2 = os.path.join(folder_path, f\"{filename.split('.')[0]}_mask_1.png\")  # Construct the second mask path\n",
        "\n",
        "        # Open the background image\n",
        "        background = Image.open(image_path)\n",
        "\n",
        "        # Initialize the overlay image as None\n",
        "        overlay_final = None\n",
        "\n",
        "        # Check if the first mask exists\n",
        "        if os.path.exists(mask_path_1):\n",
        "            # Open the first overlay image\n",
        "            overlay_1 = Image.open(mask_path_1)\n",
        "\n",
        "            # Resize the first overlay image to fit the background image\n",
        "            overlay_resized_1 = overlay_1.resize(background.size, Image.LANCZOS)\n",
        "\n",
        "            # Ensure the mode is compatible\n",
        "            if background.mode != overlay_resized_1.mode:\n",
        "                overlay_resized_1 = overlay_resized_1.convert(background.mode)\n",
        "\n",
        "            overlay_final = overlay_resized_1\n",
        "\n",
        "        # Check if the second mask exists\n",
        "        if os.path.exists(mask_path_2):\n",
        "            # Open the second overlay image\n",
        "            overlay_2 = Image.open(mask_path_2)\n",
        "\n",
        "            # Resize the second overlay image to fit the background image\n",
        "            overlay_resized_2 = overlay_2.resize(background.size, Image.LANCZOS)\n",
        "\n",
        "            # Ensure the mode is compatible\n",
        "            if background.mode != overlay_resized_2.mode:\n",
        "                overlay_resized_2 = overlay_resized_2.convert(background.mode)\n",
        "\n",
        "            # If the first overlay image exists, blend both overlay images\n",
        "            if overlay_final:\n",
        "                overlay_final = Image.blend(overlay_final, overlay_resized_2, 0.5)\n",
        "            else:\n",
        "                overlay_final = overlay_resized_2\n",
        "\n",
        "        if overlay_final:\n",
        "            # Create a composite image by blending the images\n",
        "            blended = Image.blend(background, overlay_final, 0.5)\n",
        "\n",
        "            # Save the composite image in the specified folder\n",
        "            save_name = f\"result_{filename}\"\n",
        "            save_path_full = os.path.join(save_path, save_name)\n",
        "            blended.save(save_path_full)  # Adjust the save file name as needed\n",
        "\n",
        "            # Optionally, show the composite image\n",
        "            #blended.show()\n",
        "        else:\n",
        "            print(f\"No masks found for {filename}.\")"
      ],
      "metadata": {
        "id": "SZQ9wU_tQoAH"
      },
      "execution_count": 14,
      "outputs": []
    },
    {
      "cell_type": "markdown",
      "source": [
        "Normal"
      ],
      "metadata": {
        "id": "tgpRw6FnMEmc"
      }
    },
    {
      "cell_type": "code",
      "source": [
        "# Path to the folder containing the images\n",
        "folder_path = \"/content/drive/MyDrive/US dataset/Original without duplicated, misclassification and axila/normal\"\n",
        "\n",
        "# Path to save the composite images\n",
        "save_path = \"/content/drive/MyDrive/US dataset/Original without duplicated, misclassification and axila/Overlayed/normal\"\n",
        "\n",
        "# Iterate through the files in the folder\n",
        "for filename in os.listdir(folder_path):\n",
        "    if filename.endswith(\".png\") and \"_mask\" not in filename:  # Select only the images, not the masks\n",
        "        image_path = os.path.join(folder_path, filename)\n",
        "        mask_path_1 = os.path.join(folder_path, f\"{filename.split('.')[0]}_mask.png\")  # Construct the first mask path\n",
        "        mask_path_2 = os.path.join(folder_path, f\"{filename.split('.')[0]}_mask_1.png\")  # Construct the second mask path\n",
        "\n",
        "        # Open the background image\n",
        "        background = Image.open(image_path)\n",
        "\n",
        "        # Initialize the overlay image as None\n",
        "        overlay_final = None\n",
        "\n",
        "        # Check if the first mask exists\n",
        "        if os.path.exists(mask_path_1):\n",
        "            # Open the first overlay image\n",
        "            overlay_1 = Image.open(mask_path_1)\n",
        "\n",
        "            # Resize the first overlay image to fit the background image\n",
        "            overlay_resized_1 = overlay_1.resize(background.size, Image.LANCZOS)\n",
        "\n",
        "            # Ensure the mode is compatible\n",
        "            if background.mode != overlay_resized_1.mode:\n",
        "                overlay_resized_1 = overlay_resized_1.convert(background.mode)\n",
        "\n",
        "            overlay_final = overlay_resized_1\n",
        "\n",
        "        # Check if the second mask exists\n",
        "        if os.path.exists(mask_path_2):\n",
        "            # Open the second overlay image\n",
        "            overlay_2 = Image.open(mask_path_2)\n",
        "\n",
        "            # Resize the second overlay image to fit the background image\n",
        "            overlay_resized_2 = overlay_2.resize(background.size, Image.LANCZOS)\n",
        "\n",
        "            # Ensure the mode is compatible\n",
        "            if background.mode != overlay_resized_2.mode:\n",
        "                overlay_resized_2 = overlay_resized_2.convert(background.mode)\n",
        "\n",
        "            # If the first overlay image exists, blend both overlay images\n",
        "            if overlay_final:\n",
        "                overlay_final = Image.blend(overlay_final, overlay_resized_2, 0.5)\n",
        "            else:\n",
        "                overlay_final = overlay_resized_2\n",
        "\n",
        "        if overlay_final:\n",
        "            # Create a composite image by blending the images\n",
        "            blended = Image.blend(background, overlay_final, 0.5)\n",
        "\n",
        "            # Save the composite image in the specified folder\n",
        "            save_name = f\"result_{filename}\"\n",
        "            save_path_full = os.path.join(save_path, save_name)\n",
        "            blended.save(save_path_full)  # Adjust the save file name as needed\n",
        "\n",
        "            # Optionally, show the composite image\n",
        "            #blended.show()\n",
        "        else:\n",
        "            print(f\"No masks found for {filename}.\")"
      ],
      "metadata": {
        "id": "dhVl3K2UQpdE"
      },
      "execution_count": 15,
      "outputs": []
    }
  ]
}
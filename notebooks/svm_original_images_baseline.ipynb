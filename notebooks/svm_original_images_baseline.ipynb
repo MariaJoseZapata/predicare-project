{
  "nbformat": 4,
  "nbformat_minor": 0,
  "metadata": {
    "colab": {
      "provenance": []
    },
    "kernelspec": {
      "name": "python3",
      "display_name": "Python 3"
    },
    "language_info": {
      "name": "python"
    }
  },
  "cells": [
    {
      "cell_type": "markdown",
      "source": [
        "# SMV model using original images"
      ],
      "metadata": {
        "id": "jNajEJGgYPUk"
      }
    },
    {
      "cell_type": "code",
      "execution_count": null,
      "metadata": {
        "colab": {
          "base_uri": "https://localhost:8080/"
        },
        "id": "wuibxa-fXqFy",
        "outputId": "542412e9-a718-430d-d4ef-b556fcda8f68"
      },
      "outputs": [
        {
          "output_type": "stream",
          "name": "stdout",
          "text": [
            "Drive already mounted at /content/drive; to attempt to forcibly remount, call drive.mount(\"/content/drive\", force_remount=True).\n"
          ]
        }
      ],
      "source": [
        "from google.colab import drive\n",
        "drive.mount('/content/drive')"
      ]
    },
    {
      "cell_type": "code",
      "source": [
        "import os\n",
        "import cv2\n",
        "import seaborn as sns\n",
        "import matplotlib.pyplot as plt\n",
        "import numpy as np\n",
        "from sklearn.model_selection import train_test_split\n",
        "from sklearn.svm import SVC\n",
        "from sklearn.metrics import classification_report, accuracy_score, confusion_matrix\n",
        "from skimage.feature import hog"
      ],
      "metadata": {
        "id": "YGw8E6YjYU_k"
      },
      "execution_count": 1,
      "outputs": []
    },
    {
      "cell_type": "code",
      "source": [
        "# Define the parent folder containing the images\n",
        "parent_folder_path = \"/content/drive/MyDrive/US dataset/Original\"\n",
        "\n",
        "# Lists to store the data\n",
        "images = []\n",
        "labels = []\n",
        "\n",
        "# Define the desired dimensions\n",
        "desired_width = 64\n",
        "desired_height = 64\n",
        "\n",
        "# Iterate through the parent folder\n",
        "for folder in os.listdir(parent_folder_path):\n",
        "    folder_path = os.path.join(parent_folder_path, folder)\n",
        "    if not os.path.isdir(folder_path):\n",
        "        continue\n",
        "\n",
        "    label = folder\n",
        "\n",
        "    # Iterate through images in the current folder\n",
        "    for image_file in os.listdir(folder_path):\n",
        "        if \"_mask\" in image_file:\n",
        "            # Skip images with '_mask' in the file name\n",
        "            continue\n",
        "\n",
        "        image_path = os.path.join(folder_path, image_file)\n",
        "\n",
        "        # Load the image\n",
        "        image = cv2.imread(image_path, cv2.IMREAD_GRAYSCALE)\n",
        "\n",
        "        # Resize the image to the desired dimensions\n",
        "        image = cv2.resize(image, (desired_width, desired_height))\n",
        "\n",
        "        # Append the features and label to the lists\n",
        "        images.append(image.flatten())\n",
        "        labels.append(label)"
      ],
      "metadata": {
        "id": "0gA3umY6YaAX"
      },
      "execution_count": 11,
      "outputs": []
    },
    {
      "cell_type": "code",
      "source": [
        "# Split the dataset into training and testing sets\n",
        "X_train, X_test, y_train, y_test = train_test_split(images, labels, test_size=0.2, stratify=labels, random_state=42)\n",
        "\n",
        "# Train the SVM model\n",
        "svm_model = SVC()\n",
        "svm_model.fit(X_train, y_train)\n",
        "\n",
        "# Make predictions on the test set\n",
        "y_pred = svm_model.predict(X_test)"
      ],
      "metadata": {
        "id": "VssgzW1fYjqo"
      },
      "execution_count": 12,
      "outputs": []
    },
    {
      "cell_type": "code",
      "source": [
        "# Calculate the accuracy and display the classification report\n",
        "accuracy = accuracy_score(y_test, y_pred)\n",
        "print(\"Accuracy:\", accuracy)\n",
        "print(\"Classification Report:\")\n",
        "print(classification_report(y_test, y_pred, target_names=categories))"
      ],
      "metadata": {
        "colab": {
          "base_uri": "https://localhost:8080/"
        },
        "id": "7_IfjxOgYmqH",
        "outputId": "4e3829d6-cb54-4d8a-8bf7-7660473c988c"
      },
      "execution_count": 13,
      "outputs": [
        {
          "output_type": "stream",
          "name": "stdout",
          "text": [
            "Accuracy: 0.6923076923076923\n",
            "Classification Report:\n",
            "              precision    recall  f1-score   support\n",
            "\n",
            "      benign       0.67      0.97      0.79        87\n",
            "   malignant       0.78      0.50      0.61        42\n",
            "      normal       1.00      0.11      0.20        27\n",
            "\n",
            "    accuracy                           0.69       156\n",
            "   macro avg       0.81      0.53      0.53       156\n",
            "weighted avg       0.75      0.69      0.64       156\n",
            "\n"
          ]
        }
      ]
    },
    {
      "cell_type": "code",
      "source": [
        "# Create a confusion matrix\n",
        "confusion = confusion_matrix(y_test, y_pred)\n",
        "\n",
        "# Create a heatmap for visualization\n",
        "plt.figure(figsize=(8, 6))\n",
        "sns.heatmap(confusion, annot=True, fmt='d', cmap='Blues', xticklabels=categories, yticklabels=categories)\n",
        "plt.xlabel('Predicted')\n",
        "plt.ylabel('True')\n",
        "plt.title('Confusion Matrix')\n",
        "plt.show()"
      ],
      "metadata": {
        "colab": {
          "base_uri": "https://localhost:8080/",
          "height": 564
        },
        "id": "RpRqIP99bnTl",
        "outputId": "3340447d-5836-4911-ca13-dfd94fe4407e"
      },
      "execution_count": 14,
      "outputs": [
        {
          "output_type": "display_data",
          "data": {
            "text/plain": [
              "<Figure size 800x600 with 2 Axes>"
            ],
            "image/png": "[encoded data removed]"
          },
          "metadata": {}
        }
      ]
    }
  ]
}
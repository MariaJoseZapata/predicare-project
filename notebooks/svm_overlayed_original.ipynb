{
  "nbformat": 4,
  "nbformat_minor": 0,
  "metadata": {
    "colab": {
      "provenance": []
    },
    "kernelspec": {
      "name": "python3",
      "display_name": "Python 3"
    },
    "language_info": {
      "name": "python"
    }
  },
  "cells": [
    {
      "cell_type": "code",
      "source": [
        "from google.colab import drive\n",
        "drive.mount('/content/drive')"
      ],
      "metadata": {
        "colab": {
          "base_uri": "https://localhost:8080/"
        },
        "id": "yDKq9jws8p5V",
        "outputId": "9708e608-43b4-40b5-ca65-173866fb1398"
      },
      "execution_count": 1,
      "outputs": [
        {
          "output_type": "stream",
          "name": "stdout",
          "text": [
            "Drive already mounted at /content/drive; to attempt to forcibly remount, call drive.mount(\"/content/drive\", force_remount=True).\n"
          ]
        }
      ]
    },
    {
      "cell_type": "code",
      "source": [
        "import os\n",
        "from PIL import Image\n",
        "import cv2\n",
        "import seaborn as sns\n",
        "import matplotlib.pyplot as plt\n",
        "import numpy as np\n",
        "from sklearn.model_selection import train_test_split\n",
        "from sklearn.svm import SVC\n",
        "from sklearn.metrics import classification_report, accuracy_score, confusion_matrix"
      ],
      "metadata": {
        "id": "r4i8MQfW8pgV"
      },
      "execution_count": 9,
      "outputs": []
    },
    {
      "cell_type": "code",
      "execution_count": 3,
      "metadata": {
        "id": "sBbMaZCj8kxB"
      },
      "outputs": [],
      "source": [
        "# Path to the folder containing the images\n",
        "folder_path = \"/content/drive/MyDrive/US dataset/Original/benign\"\n",
        "\n",
        "# Path to save the composite images\n",
        "save_path = \"/content/drive/MyDrive/US dataset/Original/Overlayed/benign\"\n",
        "\n",
        "# Iterate through the files in the folder\n",
        "for filename in os.listdir(folder_path):\n",
        "    if filename.endswith(\".png\") and \"_mask\" not in filename:  # Select only the images, not the masks\n",
        "        image_path = os.path.join(folder_path, filename)\n",
        "        mask_path_1 = os.path.join(folder_path, f\"{filename.split('.')[0]}_mask.png\")  # Construct the first mask path\n",
        "        mask_path_2 = os.path.join(folder_path, f\"{filename.split('.')[0]}_mask_1.png\")  # Construct the second mask path\n",
        "        mask_path_3 = os.path.join(folder_path, f\"{filename.split('.')[0]}_mask_2.png\")  # Construct the third mask path\n",
        "\n",
        "        # Open the background image\n",
        "        background = Image.open(image_path)\n",
        "\n",
        "        # Initialize the overlay image as None\n",
        "        overlay_final = None\n",
        "\n",
        "        # Check if the first mask exists\n",
        "        if os.path.exists(mask_path_1):\n",
        "            # Open the first overlay image\n",
        "            overlay_1 = Image.open(mask_path_1)\n",
        "\n",
        "            # Resize the first overlay image to fit the background image\n",
        "            overlay_resized_1 = overlay_1.resize(background.size, Image.LANCZOS)\n",
        "\n",
        "            # Ensure the mode is compatible\n",
        "            if background.mode != overlay_resized_1.mode:\n",
        "                overlay_resized_1 = overlay_resized_1.convert(background.mode)\n",
        "\n",
        "            overlay_final = overlay_resized_1\n",
        "\n",
        "        # Check if the second mask exists\n",
        "        if os.path.exists(mask_path_2):\n",
        "            # Open the second overlay image\n",
        "            overlay_2 = Image.open(mask_path_2)\n",
        "\n",
        "            # Resize the second overlay image to fit the background image\n",
        "            overlay_resized_2 = overlay_2.resize(background.size, Image.LANCZOS)\n",
        "\n",
        "            # Ensure the mode is compatible\n",
        "            if background.mode != overlay_resized_2.mode:\n",
        "                overlay_resized_2 = overlay_resized_2.convert(background.mode)\n",
        "\n",
        "            # If the first overlay image exists, blend both overlay images\n",
        "            if overlay_final:\n",
        "                overlay_final = Image.blend(overlay_final, overlay_resized_2, 0.5)\n",
        "            else:\n",
        "                overlay_final = overlay_resized_2\n",
        "\n",
        "        # Check if the third mask exists\n",
        "        if os.path.exists(mask_path_3):\n",
        "            # Open the third overlay image\n",
        "            overlay_3 = Image.open(mask_path_3)\n",
        "\n",
        "            # Resize the third overlay image to fit the background image\n",
        "            overlay_resized_3 = overlay_3.resize(background.size, Image.LANCZOS)\n",
        "\n",
        "            # Ensure the mode is compatible\n",
        "            if background.mode != overlay_resized_3.mode:\n",
        "                overlay_resized_3 = overlay_resized_3.convert(background.mode)\n",
        "\n",
        "            # If any previous overlay image exists, blend the third overlay image\n",
        "            if overlay_final:\n",
        "                overlay_final = Image.blend(overlay_final, overlay_resized_3, 0.5)\n",
        "            else:\n",
        "                overlay_final = overlay_resized_3\n",
        "\n",
        "        if overlay_final:\n",
        "            # Create a composite image by blending the images\n",
        "            blended = Image.blend(background, overlay_final, 0.5)\n",
        "\n",
        "            # Save the composite image in the specified folder\n",
        "            save_name = f\"overlayed_{filename}\"\n",
        "            save_path_full = os.path.join(save_path, save_name)\n",
        "            blended.save(save_path_full)  # Adjust the save file name as needed\n",
        "\n",
        "            # Optionally, show the composite image\n",
        "            # blended.show()\n",
        "        else:\n",
        "            print(f\"No masks found for {filename}.\")"
      ]
    },
    {
      "cell_type": "code",
      "source": [
        "# Path to the folder containing the images\n",
        "folder_path = \"/content/drive/MyDrive/US dataset/Original/malignant\"\n",
        "\n",
        "# Path to save the composite images\n",
        "save_path = \"/content/drive/MyDrive/US dataset/Original/Overlayed/malignant\"\n",
        "\n",
        "# Iterate through the files in the folder\n",
        "for filename in os.listdir(folder_path):\n",
        "    if filename.endswith(\".png\") and \"_mask\" not in filename:  # Select only the images, not the masks\n",
        "        image_path = os.path.join(folder_path, filename)\n",
        "        mask_path_1 = os.path.join(folder_path, f\"{filename.split('.')[0]}_mask.png\")  # Construct the first mask path\n",
        "        mask_path_2 = os.path.join(folder_path, f\"{filename.split('.')[0]}_mask_1.png\")  # Construct the second mask path\n",
        "        mask_path_3 = os.path.join(folder_path, f\"{filename.split('.')[0]}_mask_2.png\")  # Construct the third mask path\n",
        "\n",
        "        # Open the background image\n",
        "        background = Image.open(image_path)\n",
        "\n",
        "        # Initialize the overlay image as None\n",
        "        overlay_final = None\n",
        "\n",
        "        # Check if the first mask exists\n",
        "        if os.path.exists(mask_path_1):\n",
        "            # Open the first overlay image\n",
        "            overlay_1 = Image.open(mask_path_1)\n",
        "\n",
        "            # Resize the first overlay image to fit the background image\n",
        "            overlay_resized_1 = overlay_1.resize(background.size, Image.LANCZOS)\n",
        "\n",
        "            # Ensure the mode is compatible\n",
        "            if background.mode != overlay_resized_1.mode:\n",
        "                overlay_resized_1 = overlay_resized_1.convert(background.mode)\n",
        "\n",
        "            overlay_final = overlay_resized_1\n",
        "\n",
        "        # Check if the second mask exists\n",
        "        if os.path.exists(mask_path_2):\n",
        "            # Open the second overlay image\n",
        "            overlay_2 = Image.open(mask_path_2)\n",
        "\n",
        "            # Resize the second overlay image to fit the background image\n",
        "            overlay_resized_2 = overlay_2.resize(background.size, Image.LANCZOS)\n",
        "\n",
        "            # Ensure the mode is compatible\n",
        "            if background.mode != overlay_resized_2.mode:\n",
        "                overlay_resized_2 = overlay_resized_2.convert(background.mode)\n",
        "\n",
        "            # If the first overlay image exists, blend both overlay images\n",
        "            if overlay_final:\n",
        "                overlay_final = Image.blend(overlay_final, overlay_resized_2, 0.5)\n",
        "            else:\n",
        "                overlay_final = overlay_resized_2\n",
        "\n",
        "        # Check if the third mask exists\n",
        "        if os.path.exists(mask_path_3):\n",
        "            # Open the third overlay image\n",
        "            overlay_3 = Image.open(mask_path_3)\n",
        "\n",
        "            # Resize the third overlay image to fit the background image\n",
        "            overlay_resized_3 = overlay_3.resize(background.size, Image.LANCZOS)\n",
        "\n",
        "            # Ensure the mode is compatible\n",
        "            if background.mode != overlay_resized_3.mode:\n",
        "                overlay_resized_3 = overlay_resized_3.convert(background.mode)\n",
        "\n",
        "            # If any previous overlay image exists, blend the third overlay image\n",
        "            if overlay_final:\n",
        "                overlay_final = Image.blend(overlay_final, overlay_resized_3, 0.5)\n",
        "            else:\n",
        "                overlay_final = overlay_resized_3\n",
        "\n",
        "        if overlay_final:\n",
        "            # Create a composite image by blending the images\n",
        "            blended = Image.blend(background, overlay_final, 0.5)\n",
        "\n",
        "            # Save the composite image in the specified folder\n",
        "            save_name = f\"overlayed_{filename}\"\n",
        "            save_path_full = os.path.join(save_path, save_name)\n",
        "            blended.save(save_path_full)  # Adjust the save file name as needed\n",
        "\n",
        "            # Optionally, show the composite image\n",
        "            # blended.show()\n",
        "        else:\n",
        "            print(f\"No masks found for {filename}.\")"
      ],
      "metadata": {
        "id": "2BvDt9ea9dTC"
      },
      "execution_count": 5,
      "outputs": []
    },
    {
      "cell_type": "code",
      "source": [
        "# Path to the folder containing the images\n",
        "folder_path = \"/content/drive/MyDrive/US dataset/Original/normal\"\n",
        "\n",
        "# Path to save the composite images\n",
        "save_path = \"/content/drive/MyDrive/US dataset/Original/Overlayed/normal\"\n",
        "\n",
        "# Iterate through the files in the folder\n",
        "for filename in os.listdir(folder_path):\n",
        "    if filename.endswith(\".png\") and \"_mask\" not in filename:  # Select only the images, not the masks\n",
        "        image_path = os.path.join(folder_path, filename)\n",
        "        mask_path_1 = os.path.join(folder_path, f\"{filename.split('.')[0]}_mask.png\")  # Construct the first mask path\n",
        "        mask_path_2 = os.path.join(folder_path, f\"{filename.split('.')[0]}_mask_1.png\")  # Construct the second mask path\n",
        "        mask_path_3 = os.path.join(folder_path, f\"{filename.split('.')[0]}_mask_2.png\")  # Construct the third mask path\n",
        "\n",
        "        # Open the background image\n",
        "        background = Image.open(image_path)\n",
        "\n",
        "        # Initialize the overlay image as None\n",
        "        overlay_final = None\n",
        "\n",
        "        # Check if the first mask exists\n",
        "        if os.path.exists(mask_path_1):\n",
        "            # Open the first overlay image\n",
        "            overlay_1 = Image.open(mask_path_1)\n",
        "\n",
        "            # Resize the first overlay image to fit the background image\n",
        "            overlay_resized_1 = overlay_1.resize(background.size, Image.LANCZOS)\n",
        "\n",
        "            # Ensure the mode is compatible\n",
        "            if background.mode != overlay_resized_1.mode:\n",
        "                overlay_resized_1 = overlay_resized_1.convert(background.mode)\n",
        "\n",
        "            overlay_final = overlay_resized_1\n",
        "\n",
        "        # Check if the second mask exists\n",
        "        if os.path.exists(mask_path_2):\n",
        "            # Open the second overlay image\n",
        "            overlay_2 = Image.open(mask_path_2)\n",
        "\n",
        "            # Resize the second overlay image to fit the background image\n",
        "            overlay_resized_2 = overlay_2.resize(background.size, Image.LANCZOS)\n",
        "\n",
        "            # Ensure the mode is compatible\n",
        "            if background.mode != overlay_resized_2.mode:\n",
        "                overlay_resized_2 = overlay_resized_2.convert(background.mode)\n",
        "\n",
        "            # If the first overlay image exists, blend both overlay images\n",
        "            if overlay_final:\n",
        "                overlay_final = Image.blend(overlay_final, overlay_resized_2, 0.5)\n",
        "            else:\n",
        "                overlay_final = overlay_resized_2\n",
        "\n",
        "        # Check if the third mask exists\n",
        "        if os.path.exists(mask_path_3):\n",
        "            # Open the third overlay image\n",
        "            overlay_3 = Image.open(mask_path_3)\n",
        "\n",
        "            # Resize the third overlay image to fit the background image\n",
        "            overlay_resized_3 = overlay_3.resize(background.size, Image.LANCZOS)\n",
        "\n",
        "            # Ensure the mode is compatible\n",
        "            if background.mode != overlay_resized_3.mode:\n",
        "                overlay_resized_3 = overlay_resized_3.convert(background.mode)\n",
        "\n",
        "            # If any previous overlay image exists, blend the third overlay image\n",
        "            if overlay_final:\n",
        "                overlay_final = Image.blend(overlay_final, overlay_resized_3, 0.5)\n",
        "            else:\n",
        "                overlay_final = overlay_resized_3\n",
        "\n",
        "        if overlay_final:\n",
        "            # Create a composite image by blending the images\n",
        "            blended = Image.blend(background, overlay_final, 0.5)\n",
        "\n",
        "            # Save the composite image in the specified folder\n",
        "            save_name = f\"overlayed_{filename}\"\n",
        "            save_path_full = os.path.join(save_path, save_name)\n",
        "            blended.save(save_path_full)  # Adjust the save file name as needed\n",
        "\n",
        "            # Optionally, show the composite image\n",
        "            # blended.show()\n",
        "        else:\n",
        "            print(f\"No masks found for {filename}.\")"
      ],
      "metadata": {
        "id": "zfhxntIV9mte"
      },
      "execution_count": 6,
      "outputs": []
    },
    {
      "cell_type": "code",
      "source": [
        "# Define the parent folder containing the images\n",
        "parent_folder_path = \"/content/drive/MyDrive/US dataset/Original/Overlayed\"\n",
        "\n",
        "# Lists to store the data\n",
        "images = []\n",
        "labels = []\n",
        "\n",
        "# Define the desired dimensions\n",
        "desired_width = 64\n",
        "desired_height = 64\n",
        "\n",
        "# Iterate through the parent folder\n",
        "for folder in os.listdir(parent_folder_path):\n",
        "    folder_path = os.path.join(parent_folder_path, folder)\n",
        "    if not os.path.isdir(folder_path):\n",
        "        continue\n",
        "\n",
        "    label = folder\n",
        "\n",
        "    # Iterate through images in the current folder\n",
        "    for image_file in os.listdir(folder_path):\n",
        "        image_path = os.path.join(folder_path, image_file)\n",
        "\n",
        "        # Load the image\n",
        "        image = cv2.imread(image_path, cv2.IMREAD_GRAYSCALE)\n",
        "\n",
        "        # Resize the image to the desired dimensions\n",
        "        image = cv2.resize(image, (desired_width, desired_height))\n",
        "\n",
        "        # Append the features and label to the lists\n",
        "        images.append(image.flatten())\n",
        "        labels.append(label)"
      ],
      "metadata": {
        "id": "1vNOn9ch_j4C"
      },
      "execution_count": 49,
      "outputs": []
    },
    {
      "cell_type": "code",
      "source": [
        "# Split the dataset into training and testing sets\n",
        "X_train, X_test, y_train, y_test = train_test_split(images, labels, test_size=0.2, stratify=labels, random_state=42)"
      ],
      "metadata": {
        "id": "lTDpwnqG_9hQ"
      },
      "execution_count": 50,
      "outputs": []
    },
    {
      "cell_type": "code",
      "source": [
        "# Train the SVM model\n",
        "svm_model = SVC()\n",
        "svm_model.fit(X_train, y_train)\n",
        "\n",
        "# Make predictions on the test set\n",
        "y_pred = svm_model.predict(X_test)"
      ],
      "metadata": {
        "id": "x0YxYz8YAN7U"
      },
      "execution_count": 51,
      "outputs": []
    },
    {
      "cell_type": "code",
      "source": [
        "# Calculate the accuracy and display the classification report\n",
        "accuracy = accuracy_score(y_test, y_pred)\n",
        "print(\"Accuracy:\", accuracy)\n",
        "print(\"Classification Report:\")\n",
        "print(classification_report(y_test, y_pred))"
      ],
      "metadata": {
        "colab": {
          "base_uri": "https://localhost:8080/"
        },
        "id": "tRYpSFa3Cgja",
        "outputId": "7292bb13-efaa-48e9-efb3-54cbc6f528de"
      },
      "execution_count": 52,
      "outputs": [
        {
          "output_type": "stream",
          "name": "stdout",
          "text": [
            "Accuracy: 0.7564102564102564\n",
            "Classification Report:\n",
            "              precision    recall  f1-score   support\n",
            "\n",
            "      benign       0.74      0.89      0.81        87\n",
            "   malignant       0.82      0.43      0.56        42\n",
            "      normal       0.77      0.85      0.81        27\n",
            "\n",
            "    accuracy                           0.76       156\n",
            "   macro avg       0.78      0.72      0.73       156\n",
            "weighted avg       0.77      0.76      0.74       156\n",
            "\n"
          ]
        }
      ]
    },
    {
      "cell_type": "code",
      "source": [
        "# Create a confusion matrix\n",
        "confusion = confusion_matrix(y_test, y_pred)\n",
        "confusion\n"
      ],
      "metadata": {
        "colab": {
          "base_uri": "https://localhost:8080/"
        },
        "id": "P2yjS7QlEiws",
        "outputId": "d943df4a-957a-4792-93fb-b822fcb4ad0a"
      },
      "execution_count": 53,
      "outputs": [
        {
          "output_type": "execute_result",
          "data": {
            "text/plain": [
              "array([[77,  4,  6],\n",
              "       [23, 18,  1],\n",
              "       [ 4,  0, 23]])"
            ]
          },
          "metadata": {},
          "execution_count": 53
        }
      ]
    },
    {
      "cell_type": "code",
      "source": [
        "# Compute confusion matrix\n",
        "cm = confusion_matrix(y_test, y_pred)\n",
        "categories = {'benign': 0, 'malignant': 1, 'normal': 2}\n",
        "# Plot confusion matrix\n",
        "plt.figure(figsize=(8, 6))\n",
        "sns.heatmap(cm, annot=True, fmt='d', cmap='Blues', cbar=False, xticklabels=categories, yticklabels=categories)\n",
        "plt.title('Confusion matrix SVM baseline model')\n",
        "plt.xlabel('Predicted labels')\n",
        "plt.ylabel('True labels')\n",
        "plt.show()"
      ],
      "metadata": {
        "colab": {
          "base_uri": "https://localhost:8080/",
          "height": 564
        },
        "id": "Hx0s-3y0FGcH",
        "outputId": "67ab3252-0ad4-422f-d750-9272e20b11bd"
      },
      "execution_count": 63,
      "outputs": [
        {
          "output_type": "display_data",
          "data": {
            "text/plain": [
              "<Figure size 800x600 with 1 Axes>"
            ],
            "image/png": "[encoded data removed]"
          },
          "metadata": {}
        }
      ]
    }
  ]
}